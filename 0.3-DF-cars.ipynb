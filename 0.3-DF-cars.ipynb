{
 "cells": [
  {
   "cell_type": "code",
   "execution_count": 1,
   "metadata": {
    "collapsed": true
   },
   "outputs": [],
   "source": [
    "import pyspark\n",
    "sc = pyspark.SparkContext('local[*]')"
   ]
  },
  {
   "cell_type": "code",
   "execution_count": 2,
   "metadata": {
    "collapsed": true
   },
   "outputs": [],
   "source": [
    "# needed whenever working with spark dataframes\n",
    "from pyspark.sql import *\n",
    "!rm -rf metastore_db/\n",
    "sqlContext = SQLContext(sc)"
   ]
  },
  {
   "cell_type": "code",
   "execution_count": 3,
   "metadata": {},
   "outputs": [
    {
     "name": "stdout",
     "output_type": "stream",
     "text": [
      "--2018-02-16 08:58:14--  https://ibm.box.com/shared/static/f1dhhjnzjwxmy2c1ys2whvrgz05d1pui.csv\n",
      "Resolving ibm.box.com (ibm.box.com)... 107.152.27.197\n",
      "Connecting to ibm.box.com (ibm.box.com)|107.152.27.197|:443... connected.\n",
      "HTTP request sent, awaiting response... 301 Moved Permanently\n",
      "Location: https://ibm.ent.box.com/shared/static/f1dhhjnzjwxmy2c1ys2whvrgz05d1pui.csv [following]\n",
      "--2018-02-16 08:58:15--  https://ibm.ent.box.com/shared/static/f1dhhjnzjwxmy2c1ys2whvrgz05d1pui.csv\n",
      "Resolving ibm.ent.box.com (ibm.ent.box.com)... 107.152.26.211\n",
      "Connecting to ibm.ent.box.com (ibm.ent.box.com)|107.152.26.211|:443... connected.\n",
      "HTTP request sent, awaiting response... 302 Found\n",
      "Location: https://public.boxcloud.com/d/1/n3opYxQlIERpLpMatA1qUOSW8bke2u2lNhg4k4GpVI8__TaKozknycmCkNUW7YV_aM7Hhvh4HZ1zpNMR6vSC8bKs1HHQnqjgXZXJ_1OjVB12zVrvlMvtt9nM9KpFOBHzCidlnM3BxMhm8pW1FWMaq9eddStXF1BwVcz8ix71mB3eW27OuaT3yDgcl7kYoQxBJ0FjGJv7w8O7NpfkNvZK0cxjq2B2-Y_vRoHzUk66tPAJyDj7-ArkPXalh3IuN-EnMm2YFdXVgZPRZH5qXl6uf9VYLD0iG1ErcL8Xl1AltSqddzR9xgGD-ut8ZKowz5JO1kvaDCa6a2lRgEbUJeV4OZTSm6dI2uVKJAtaJXXJEg2hp9zEDymMMK-cb2yQEKulIxIR5CS31iB3XD-9X_-T5pEkSp6hBRcmgj4HxJSEqFKTZRVX8Xx1zLnWeAsbdomg6uBItYdidK77ipnFwkDk58rAy5yqrvBa4Ad1y5arHAeuajriEuN2prsfyceAStuv3dWLjc-PSk0LSiF0vco4hbuFhyhubxdISb3YU6bl-kdpEgHNcTB2N33xHzjPwMJmfQ4oaJTayVhE9psTQLIjRiIm5nQYCDGuDh7_d1APyj_XW-HVr_hPqhqfkdW75EYwWkYsaS0EJ1Yp9ogtQiN1cuyx7nhe-D2yLUYQxfalHJvlHbDWxLnSUFDM04wE3ShqMOBKrIM5V-LfmN1nR-cAWvCJpBYO3v5KclIZxqwff49ys04bzXKIdrw-IspH2I2ReGzoJK-4cubt3PKj3nuHYsyZQzMnRu5-wCjb96vkNbKTTUmTygNE2pjavqKtNng1PLfGFJOzXDV8Qrl4wxotd0CBfVAIupu7aa54fCMPGqatfRpTnhE30ehzD51jH0WLpfsgA5ENSQ2lBQCK8vWkC88SB7TYKACZYhkV01BkTYbg9_O3PjsPCsGtCVB-bTz2g4IwF3D8oyntVIfJ8bTxvyG49m1pCD_xdjEihIAhmLNOEWeJDWJT8AXVTHOt04gXKWara5wkSvIhanAqrgVGW7mDZ71PldkJN2WN9OhqUZwjKqTEpPSPHb4ahyba40hz-rx8-OD-53aUc8jWIHYoxNuvSyL_N1BOElEovuh5eG5gDKC16XOnTX6tb1j05XziliknVCYtZPeovv6_Qlmij3X1p1X7SBjjASUCWUrOQZoavGT6OiYf0R-t8V0WZSt4JJqkhu9Uy577by0wXfUK96iGyTeX-3phz4MOK0op8-ubapZcfeQyMjGq6sWyv1vHiJylR0kLxAbhvz0Gv28-ic1Lu3iK72cCF8hdSqETf65Q8GOVki0ZNO4lYTUEo2Rv6CgNQTXeX-JSoVM-1G7J128sNHNWIb0pzVCEw1CHjpUqazJQ/download [following]\n",
      "--2018-02-16 08:58:16--  https://public.boxcloud.com/d/1/n3opYxQlIERpLpMatA1qUOSW8bke2u2lNhg4k4GpVI8__TaKozknycmCkNUW7YV_aM7Hhvh4HZ1zpNMR6vSC8bKs1HHQnqjgXZXJ_1OjVB12zVrvlMvtt9nM9KpFOBHzCidlnM3BxMhm8pW1FWMaq9eddStXF1BwVcz8ix71mB3eW27OuaT3yDgcl7kYoQxBJ0FjGJv7w8O7NpfkNvZK0cxjq2B2-Y_vRoHzUk66tPAJyDj7-ArkPXalh3IuN-EnMm2YFdXVgZPRZH5qXl6uf9VYLD0iG1ErcL8Xl1AltSqddzR9xgGD-ut8ZKowz5JO1kvaDCa6a2lRgEbUJeV4OZTSm6dI2uVKJAtaJXXJEg2hp9zEDymMMK-cb2yQEKulIxIR5CS31iB3XD-9X_-T5pEkSp6hBRcmgj4HxJSEqFKTZRVX8Xx1zLnWeAsbdomg6uBItYdidK77ipnFwkDk58rAy5yqrvBa4Ad1y5arHAeuajriEuN2prsfyceAStuv3dWLjc-PSk0LSiF0vco4hbuFhyhubxdISb3YU6bl-kdpEgHNcTB2N33xHzjPwMJmfQ4oaJTayVhE9psTQLIjRiIm5nQYCDGuDh7_d1APyj_XW-HVr_hPqhqfkdW75EYwWkYsaS0EJ1Yp9ogtQiN1cuyx7nhe-D2yLUYQxfalHJvlHbDWxLnSUFDM04wE3ShqMOBKrIM5V-LfmN1nR-cAWvCJpBYO3v5KclIZxqwff49ys04bzXKIdrw-IspH2I2ReGzoJK-4cubt3PKj3nuHYsyZQzMnRu5-wCjb96vkNbKTTUmTygNE2pjavqKtNng1PLfGFJOzXDV8Qrl4wxotd0CBfVAIupu7aa54fCMPGqatfRpTnhE30ehzD51jH0WLpfsgA5ENSQ2lBQCK8vWkC88SB7TYKACZYhkV01BkTYbg9_O3PjsPCsGtCVB-bTz2g4IwF3D8oyntVIfJ8bTxvyG49m1pCD_xdjEihIAhmLNOEWeJDWJT8AXVTHOt04gXKWara5wkSvIhanAqrgVGW7mDZ71PldkJN2WN9OhqUZwjKqTEpPSPHb4ahyba40hz-rx8-OD-53aUc8jWIHYoxNuvSyL_N1BOElEovuh5eG5gDKC16XOnTX6tb1j05XziliknVCYtZPeovv6_Qlmij3X1p1X7SBjjASUCWUrOQZoavGT6OiYf0R-t8V0WZSt4JJqkhu9Uy577by0wXfUK96iGyTeX-3phz4MOK0op8-ubapZcfeQyMjGq6sWyv1vHiJylR0kLxAbhvz0Gv28-ic1Lu3iK72cCF8hdSqETf65Q8GOVki0ZNO4lYTUEo2Rv6CgNQTXeX-JSoVM-1G7J128sNHNWIb0pzVCEw1CHjpUqazJQ/download\n",
      "Resolving public.boxcloud.com (public.boxcloud.com)... 107.152.26.200\n",
      "Connecting to public.boxcloud.com (public.boxcloud.com)|107.152.26.200|:443... connected.\n",
      "HTTP request sent, awaiting response... 200 OK\n",
      "Length: 1697 (1.7K) [text/csv]\n",
      "Saving to: ‘f1dhhjnzjwxmy2c1ys2whvrgz05d1pui.csv’\n",
      "\n",
      "f1dhhjnzjwxmy2c1ys2 100%[=====================>]   1.66K  --.-KB/s   in 0s     \n",
      "\n",
      "2018-02-16 08:58:17 (28.9 MB/s) - ‘f1dhhjnzjwxmy2c1ys2whvrgz05d1pui.csv’ saved [1697/1697]\n",
      "\n"
     ]
    }
   ],
   "source": [
    "!wget https://ibm.box.com/shared/static/f1dhhjnzjwxmy2c1ys2whvrgz05d1pui.csv"
   ]
  },
  {
   "cell_type": "code",
   "execution_count": 17,
   "metadata": {
    "collapsed": true
   },
   "outputs": [],
   "source": [
    "# using inferschema is very handy, but adds a second pass over the data\n",
    "\n",
    "df = sqlContext.read.format('com.databricks.spark.csv')\\\n",
    "                .option('header', 'true')\\\n",
    "                .option('inferschema', 'true')\\\n",
    "                .option('mode', 'DROPMALFORMED')\\\n",
    "                .load('f1dhhjnzjwxmy2c1ys2whvrgz05d1pui.csv')"
   ]
  },
  {
   "cell_type": "code",
   "execution_count": 5,
   "metadata": {},
   "outputs": [
    {
     "data": {
      "text/plain": [
       "32"
      ]
     },
     "execution_count": 5,
     "metadata": {},
     "output_type": "execute_result"
    }
   ],
   "source": [
    "df.count()"
   ]
  },
  {
   "cell_type": "code",
   "execution_count": 6,
   "metadata": {},
   "outputs": [
    {
     "name": "stdout",
     "output_type": "stream",
     "text": [
      "root\n",
      " |-- car: string (nullable = true)\n",
      " |-- mpg: double (nullable = true)\n",
      " |-- cyl: integer (nullable = true)\n",
      " |-- disp: double (nullable = true)\n",
      " |-- hp: integer (nullable = true)\n",
      " |-- drat: double (nullable = true)\n",
      " |-- wt: double (nullable = true)\n",
      " |-- qsec: double (nullable = true)\n",
      " |-- vs: integer (nullable = true)\n",
      " |-- am: integer (nullable = true)\n",
      " |-- gear: integer (nullable = true)\n",
      " |-- carb: integer (nullable = true)\n",
      "\n"
     ]
    }
   ],
   "source": [
    "df.printSchema()"
   ]
  },
  {
   "cell_type": "code",
   "execution_count": 7,
   "metadata": {},
   "outputs": [
    {
     "name": "stdout",
     "output_type": "stream",
     "text": [
      "+-----------------+----+---+-----+---+----+-----+-----+---+---+----+----+\n",
      "|              car| mpg|cyl| disp| hp|drat|   wt| qsec| vs| am|gear|carb|\n",
      "+-----------------+----+---+-----+---+----+-----+-----+---+---+----+----+\n",
      "|        Mazda RX4|21.0|  6|160.0|110| 3.9| 2.62|16.46|  0|  1|   4|   4|\n",
      "|    Mazda RX4 Wag|21.0|  6|160.0|110| 3.9|2.875|17.02|  0|  1|   4|   4|\n",
      "|       Datsun 710|22.8|  4|108.0| 93|3.85| 2.32|18.61|  1|  1|   4|   1|\n",
      "|   Hornet 4 Drive|21.4|  6|258.0|110|3.08|3.215|19.44|  1|  0|   3|   1|\n",
      "|Hornet Sportabout|18.7|  8|360.0|175|3.15| 3.44|17.02|  0|  0|   3|   2|\n",
      "+-----------------+----+---+-----+---+----+-----+-----+---+---+----+----+\n",
      "only showing top 5 rows\n",
      "\n"
     ]
    }
   ],
   "source": [
    "df.show(5)"
   ]
  },
  {
   "cell_type": "code",
   "execution_count": 8,
   "metadata": {},
   "outputs": [
    {
     "name": "stdout",
     "output_type": "stream",
     "text": [
      "+-----------------+----+\n",
      "|              car| mpg|\n",
      "+-----------------+----+\n",
      "|        Mazda RX4|21.0|\n",
      "|    Mazda RX4 Wag|21.0|\n",
      "|       Datsun 710|22.8|\n",
      "|   Hornet 4 Drive|21.4|\n",
      "|Hornet Sportabout|18.7|\n",
      "+-----------------+----+\n",
      "only showing top 5 rows\n",
      "\n"
     ]
    }
   ],
   "source": [
    "df.select('car', 'mpg').show(5)"
   ]
  },
  {
   "cell_type": "code",
   "execution_count": 9,
   "metadata": {},
   "outputs": [
    {
     "name": "stdout",
     "output_type": "stream",
     "text": [
      "+-----------+----+---+-----+---+----+----+-----+---+---+----+----+\n",
      "|        car| mpg|cyl| disp| hp|drat|  wt| qsec| vs| am|gear|carb|\n",
      "+-----------+----+---+-----+---+----+----+-----+---+---+----+----+\n",
      "| Duster 360|14.3|  8|360.0|245|3.21|3.57|15.84|  0|  0|   3|   4|\n",
      "|  Merc 280C|17.8|  6|167.6|123|3.92|3.44| 18.9|  1|  0|   4|   4|\n",
      "| Merc 450SE|16.4|  8|275.8|180|3.07|4.07| 17.4|  0|  0|   3|   3|\n",
      "| Merc 450SL|17.3|  8|275.8|180|3.07|3.73| 17.6|  0|  0|   3|   3|\n",
      "|Merc 450SLC|15.2|  8|275.8|180|3.07|3.78| 18.0|  0|  0|   3|   3|\n",
      "+-----------+----+---+-----+---+----+----+-----+---+---+----+----+\n",
      "only showing top 5 rows\n",
      "\n"
     ]
    }
   ],
   "source": [
    "df.filter(df['mpg'] < 18).show(5)"
   ]
  },
  {
   "cell_type": "code",
   "execution_count": 10,
   "metadata": {},
   "outputs": [
    {
     "name": "stdout",
     "output_type": "stream",
     "text": [
      "+-----------+----+---+-----+---+----+----+-----+---+---+----+----+\n",
      "|        car| mpg|cyl| disp| hp|drat|  wt| qsec| vs| am|gear|carb|\n",
      "+-----------+----+---+-----+---+----+----+-----+---+---+----+----+\n",
      "| Duster 360|14.3|  8|360.0|245|3.21|3.57|15.84|  0|  0|   3|   4|\n",
      "|  Merc 280C|17.8|  6|167.6|123|3.92|3.44| 18.9|  1|  0|   4|   4|\n",
      "| Merc 450SE|16.4|  8|275.8|180|3.07|4.07| 17.4|  0|  0|   3|   3|\n",
      "| Merc 450SL|17.3|  8|275.8|180|3.07|3.73| 17.6|  0|  0|   3|   3|\n",
      "|Merc 450SLC|15.2|  8|275.8|180|3.07|3.78| 18.0|  0|  0|   3|   3|\n",
      "+-----------+----+---+-----+---+----+----+-----+---+---+----+----+\n",
      "only showing top 5 rows\n",
      "\n"
     ]
    }
   ],
   "source": [
    "# the filter can be just like a SQL where clause\n",
    "df.filter('mpg < 18').show(5)"
   ]
  },
  {
   "cell_type": "code",
   "execution_count": 19,
   "metadata": {},
   "outputs": [
    {
     "name": "stdout",
     "output_type": "stream",
     "text": [
      "+-----------------+----+---+-----+---+----+-----+-----+---+---+----+----+-------+\n",
      "|              car| mpg|cyl| disp| hp|drat|   wt| qsec| vs| am|gear|carb|  wtTon|\n",
      "+-----------------+----+---+-----+---+----+-----+-----+---+---+----+----+-------+\n",
      "|        Mazda RX4|21.0|  6|160.0|110| 3.9| 2.62|16.46|  0|  1|   4|   4|  1.179|\n",
      "|    Mazda RX4 Wag|21.0|  6|160.0|110| 3.9|2.875|17.02|  0|  1|   4|   4|1.29375|\n",
      "|       Datsun 710|22.8|  4|108.0| 93|3.85| 2.32|18.61|  1|  1|   4|   1|  1.044|\n",
      "|   Hornet 4 Drive|21.4|  6|258.0|110|3.08|3.215|19.44|  1|  0|   3|   1|1.44675|\n",
      "|Hornet Sportabout|18.7|  8|360.0|175|3.15| 3.44|17.02|  0|  0|   3|   2|  1.548|\n",
      "|          Valiant|18.1|  6|225.0|105|2.76| 3.46|20.22|  1|  0|   3|   1|  1.557|\n",
      "+-----------------+----+---+-----+---+----+-----+-----+---+---+----+----+-------+\n",
      "only showing top 6 rows\n",
      "\n"
     ]
    }
   ],
   "source": [
    "# dataframes are immutable -- withColumn creates a new one\n",
    "df = df.withColumn('wtTon', df['wt'] * 0.45)\n",
    "df.show(6)"
   ]
  },
  {
   "cell_type": "code",
   "execution_count": 20,
   "metadata": {},
   "outputs": [
    {
     "name": "stdout",
     "output_type": "stream",
     "text": [
      "+---+------------------+\n",
      "|cyl|           avg(wt)|\n",
      "+---+------------------+\n",
      "|  6| 3.117142857142857|\n",
      "|  4| 2.285727272727273|\n",
      "|  8|3.9992142857142867|\n",
      "+---+------------------+\n",
      "\n"
     ]
    }
   ],
   "source": [
    "df.groupby(['cyl'])\\\n",
    ".agg({\"wt\": \"AVG\"})\\\n",
    ".show(5)"
   ]
  },
  {
   "cell_type": "code",
   "execution_count": 21,
   "metadata": {},
   "outputs": [
    {
     "name": "stdout",
     "output_type": "stream",
     "text": [
      "+---+------------------+\n",
      "|cyl|        avg(wtTon)|\n",
      "+---+------------------+\n",
      "|  6|1.4027142857142856|\n",
      "|  4|1.0285772727272726|\n",
      "|  8|1.7996464285714289|\n",
      "+---+------------------+\n",
      "\n"
     ]
    }
   ],
   "source": [
    "df.groupby(['cyl'])\\\n",
    "    .agg({'wtTon': 'AVG'})\\\n",
    "    .show(5)"
   ]
  },
  {
   "cell_type": "code",
   "execution_count": 22,
   "metadata": {},
   "outputs": [
    {
     "name": "stdout",
     "output_type": "stream",
     "text": [
      "+---+--------+\n",
      "|cyl|count(1)|\n",
      "+---+--------+\n",
      "|  8|      14|\n",
      "|  4|      11|\n",
      "|  6|       7|\n",
      "+---+--------+\n",
      "\n"
     ]
    }
   ],
   "source": [
    "car_counts = df.groupby(['cyl'])\\\n",
    "        .agg({\"*\": \"count\"})\\\n",
    "        .sort(\"count(1)\", ascending=False)\\\n",
    "        .show(5)"
   ]
  },
  {
   "cell_type": "code",
   "execution_count": 29,
   "metadata": {},
   "outputs": [
    {
     "name": "stdout",
     "output_type": "stream",
     "text": [
      "+--------------+---+----+\n",
      "|           car|cyl|gear|\n",
      "+--------------+---+----+\n",
      "|     Merc 240D|  4|   4|\n",
      "|      Fiat 128|  4|   4|\n",
      "|   Honda Civic|  4|   4|\n",
      "|    Datsun 710|  4|   4|\n",
      "| Toyota Corona|  4|   3|\n",
      "|     Fiat X1-9|  4|   4|\n",
      "| Porsche 914-2|  4|   5|\n",
      "|  Lotus Europa|  4|   5|\n",
      "|    Volvo 142E|  4|   4|\n",
      "|Toyota Corolla|  4|   4|\n",
      "|      Merc 230|  4|   4|\n",
      "|     Mazda RX4|  6|   4|\n",
      "+--------------+---+----+\n",
      "only showing top 12 rows\n",
      "\n"
     ]
    }
   ],
   "source": [
    "df.createOrReplaceTempView(\"cars\")\n",
    "\n",
    "# SQL statements can be run by using the sql method\n",
    "highgearcars = sqlContext.sql(\"SELECT car, cyl,gear FROM cars WHERE cyl >= 4 AND cyl <= 9\")\n",
    "highgearcars.sort('cyl', ascending=True).show(12)"
   ]
  },
  {
   "cell_type": "markdown",
   "metadata": {
    "collapsed": true
   },
   "source": [
    "## Exercise 1:\n",
    "\n",
    "Step 1: Create a list of tuples (\"john\", 23), (\"mr. bean\", 56), (\"bill clinton\", 70)\n",
    "\n",
    "Step 2: Convert the list to a data frame with two columns\n",
    "\n",
    "Step 3: Filter the people with age < 40\n",
    "\n",
    "Step 4: Get the names ONLY of people smaller than 40\n",
    "\n",
    "Step 5: Register the dataframe as a SQL table\n",
    "\n",
    "Step 6: Select the names only of people whose age < 40\n",
    "\n",
    "Some hints: http://spark.apache.org/docs/latest/sql-programming-guide.html#generic-loadsave-functions"
   ]
  },
  {
   "cell_type": "code",
   "execution_count": 34,
   "metadata": {},
   "outputs": [
    {
     "name": "stdout",
     "output_type": "stream",
     "text": [
      "+------------+---+\n",
      "|        name|age|\n",
      "+------------+---+\n",
      "|        john| 23|\n",
      "|    mr. bean| 56|\n",
      "|bill clinton| 70|\n",
      "+------------+---+\n",
      "\n"
     ]
    }
   ],
   "source": [
    "names = [('john', 23), ('mr. bean', 56), ('bill clinton', 70)]\n",
    "df = sqlContext.createDataFrame([(value[0], value[1]) for value in names], ['name', 'age'])\n",
    "df.show()"
   ]
  },
  {
   "cell_type": "code",
   "execution_count": 35,
   "metadata": {},
   "outputs": [
    {
     "name": "stdout",
     "output_type": "stream",
     "text": [
      "+----+---+\n",
      "|name|age|\n",
      "+----+---+\n",
      "|john| 23|\n",
      "+----+---+\n",
      "\n"
     ]
    }
   ],
   "source": [
    "df.filter('age < 40').show()"
   ]
  },
  {
   "cell_type": "code",
   "execution_count": 38,
   "metadata": {},
   "outputs": [
    {
     "name": "stdout",
     "output_type": "stream",
     "text": [
      "+----+\n",
      "|name|\n",
      "+----+\n",
      "|john|\n",
      "+----+\n",
      "\n"
     ]
    }
   ],
   "source": [
    "df.filter('age < 40').select('name').show()"
   ]
  },
  {
   "cell_type": "code",
   "execution_count": 39,
   "metadata": {
    "collapsed": true
   },
   "outputs": [],
   "source": [
    "df.createOrReplaceTempView('people')"
   ]
  },
  {
   "cell_type": "code",
   "execution_count": 41,
   "metadata": {},
   "outputs": [
    {
     "name": "stdout",
     "output_type": "stream",
     "text": [
      "+----+\n",
      "|name|\n",
      "+----+\n",
      "|john|\n",
      "+----+\n",
      "\n"
     ]
    }
   ],
   "source": [
    "sqlContext.sql('SELECT name FROM people WHERE age < 40').show()"
   ]
  },
  {
   "cell_type": "markdown",
   "metadata": {},
   "source": [
    "## Exercise 2:\n",
    "\n",
    "Step 1: Create a list of tuple (\"john\", \"male\"), (\"hilary\", \"female\")\n",
    "\n",
    "Step 2: Join with the data from the previos exercise and output all males older than 50\n",
    "\n",
    "Hints: https://databricks.com/blog/2015/02/17/introducing-dataframes-in-spark-for-large-scale-data-science.html"
   ]
  },
  {
   "cell_type": "code",
   "execution_count": 43,
   "metadata": {
    "collapsed": true
   },
   "outputs": [],
   "source": [
    "names_2 = [('john', 'male'), ('hilary', 'female')]\n",
    "df_2 = sqlContext.createDataFrame([(value[0] ,value[1]) for value in names_2], ['name', 'sex'])"
   ]
  },
  {
   "cell_type": "code",
   "execution_count": 44,
   "metadata": {},
   "outputs": [
    {
     "name": "stdout",
     "output_type": "stream",
     "text": [
      "+------------+----+------+\n",
      "|        name| age|   sex|\n",
      "+------------+----+------+\n",
      "|      hilary|null|female|\n",
      "|bill clinton|  70|  null|\n",
      "|    mr. bean|  56|  null|\n",
      "|        john|  23|  male|\n",
      "+------------+----+------+\n",
      "\n"
     ]
    }
   ],
   "source": [
    "df_3 = df.join(df_2, on='name', how='outer')\n",
    "df_3.show()"
   ]
  },
  {
   "cell_type": "code",
   "execution_count": 47,
   "metadata": {},
   "outputs": [
    {
     "name": "stdout",
     "output_type": "stream",
     "text": [
      "+----+---+---+\n",
      "|name|age|sex|\n",
      "+----+---+---+\n",
      "+----+---+---+\n",
      "\n"
     ]
    }
   ],
   "source": [
    "df_3.filter('(sex == \"male\") and (age > 50)').show()"
   ]
  },
  {
   "cell_type": "code",
   "execution_count": null,
   "metadata": {
    "collapsed": true
   },
   "outputs": [],
   "source": [
    "sc.stop()"
   ]
  }
 ],
 "metadata": {
  "anaconda-cloud": {},
  "kernelspec": {
   "display_name": "Python 3",
   "language": "python",
   "name": "python3"
  },
  "language_info": {
   "codemirror_mode": {
    "name": "ipython",
    "version": 3
   },
   "file_extension": ".py",
   "mimetype": "text/x-python",
   "name": "python",
   "nbconvert_exporter": "python",
   "pygments_lexer": "ipython3",
   "version": "3.5.2"
  }
 },
 "nbformat": 4,
 "nbformat_minor": 1
}
