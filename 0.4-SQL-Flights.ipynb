{
 "cells": [
  {
   "cell_type": "code",
   "execution_count": 51,
   "metadata": {
    "collapsed": true
   },
   "outputs": [],
   "source": [
    "import pyspark\n",
    "sc = pyspark.SparkContext('local[*]')"
   ]
  },
  {
   "cell_type": "markdown",
   "metadata": {},
   "source": [
    "# Spark SQLContext"
   ]
  },
  {
   "cell_type": "markdown",
   "metadata": {},
   "source": [
    "## Documentation: https://spark.apache.org/docs/latest/api/python/pyspark.sql.html"
   ]
  },
  {
   "cell_type": "markdown",
   "metadata": {},
   "source": [
    "Initilizing SQLContext"
   ]
  },
  {
   "cell_type": "code",
   "execution_count": 52,
   "metadata": {
    "collapsed": true
   },
   "outputs": [],
   "source": [
    "!rm -rf metastore_db/\n",
    "from pyspark.sql import SQLContext\n",
    "sqlContext = SQLContext(sc)"
   ]
  },
  {
   "cell_type": "markdown",
   "metadata": {},
   "source": [
    "## Creating user-defined functions"
   ]
  },
  {
   "cell_type": "markdown",
   "metadata": {},
   "source": [
    "To use RDD in SQLContext, RDD lines have to be converted into a Row format"
   ]
  },
  {
   "cell_type": "code",
   "execution_count": 53,
   "metadata": {
    "collapsed": true
   },
   "outputs": [],
   "source": [
    "import re\n",
    "from pyspark.sql import Row\n",
    "# Read from CSV\n",
    "def load_csv(line):\n",
    "    return re.split(\"\\\"?,\\\"?\", line) # \"?,\"?\n",
    "        \n",
    "def readInt(x):\n",
    "    try:\n",
    "        return int(x)\n",
    "    except:\n",
    "        return x\n",
    "\n",
    "def parseElement(e):\n",
    "    return Row(year=readInt(e[0]),\n",
    "    month=readInt(e[1]),\n",
    "    day=readInt(e[2]),\n",
    "    dep_time=readInt(e[3]),\n",
    "    dep_delay=readInt(e[4]),\n",
    "    arr_time=readInt(e[5]),\n",
    "    arr_delay=readInt(e[6]),\n",
    "    cancelled=e[7],\n",
    "    carrier=e[8],\n",
    "    tailnum=e[9],\n",
    "    flight=readInt(e[10]),\n",
    "    origin=e[11],\n",
    "    dest=e[12],\n",
    "    air_time=readInt(e[13]),\n",
    "    distance=readInt(e[14]),\n",
    "    hour=readInt(e[15]),\n",
    "    min=readInt(e[16])\n",
    "    )"
   ]
  },
  {
   "cell_type": "code",
   "execution_count": 54,
   "metadata": {},
   "outputs": [
    {
     "name": "stdout",
     "output_type": "stream",
     "text": [
      "--2018-02-16 10:14:10--  https://dsr-data.s3.amazonaws.com/flights/flights14.csv\n",
      "Resolving dsr-data.s3.amazonaws.com (dsr-data.s3.amazonaws.com)... 52.219.73.46\n",
      "Connecting to dsr-data.s3.amazonaws.com (dsr-data.s3.amazonaws.com)|52.219.73.46|:443... connected.\n",
      "HTTP request sent, awaiting response... 200 OK\n",
      "Length: 16150465 (15M) [text/csv]\n",
      "Saving to: ‘flights14.csv.1’\n",
      "\n",
      "flights14.csv.1     100%[=====================>]  15.40M  3.89MB/s   in 4.7s   \n",
      "\n",
      "2018-02-16 10:14:15 (3.31 MB/s) - ‘flights14.csv.1’ saved [16150465/16150465]\n",
      "\n"
     ]
    }
   ],
   "source": [
    "!wget https://dsr-data.s3.amazonaws.com/flights/flights14.csv"
   ]
  },
  {
   "cell_type": "code",
   "execution_count": 55,
   "metadata": {
    "collapsed": true
   },
   "outputs": [],
   "source": [
    "flights = sc.textFile(\"flights14.csv\").map(load_csv).filter(lambda e: not e[0] == \"year\").map(parseElement).cache()"
   ]
  },
  {
   "cell_type": "markdown",
   "metadata": {},
   "source": [
    "Now the schema and the RDD have to be registered with the sqlContext:"
   ]
  },
  {
   "cell_type": "code",
   "execution_count": 56,
   "metadata": {
    "collapsed": true,
    "scrolled": false
   },
   "outputs": [],
   "source": [
    "flightsDF = sqlContext.createDataFrame(flights)"
   ]
  },
  {
   "cell_type": "code",
   "execution_count": 57,
   "metadata": {
    "collapsed": true
   },
   "outputs": [],
   "source": [
    "flightsDF.createOrReplaceTempView(\"flight\")"
   ]
  },
  {
   "cell_type": "code",
   "execution_count": 58,
   "metadata": {},
   "outputs": [
    {
     "data": {
      "text/plain": [
       "[Row(air_time=359, arr_delay=13, arr_time=1238, cancelled='0', carrier='AA', day=1, dep_delay=14, dep_time=914, dest='LAX', distance=2475, flight=1, hour=9, min=14, month=1, origin='JFK', tailnum='N338AA', year=2014),\n",
       " Row(air_time=363, arr_delay=13, arr_time=1523, cancelled='0', carrier='AA', day=1, dep_delay=-3, dep_time=1157, dest='LAX', distance=2475, flight=3, hour=11, min=57, month=1, origin='JFK', tailnum='N335AA', year=2014),\n",
       " Row(air_time=351, arr_delay=9, arr_time=2224, cancelled='0', carrier='AA', day=1, dep_delay=2, dep_time=1902, dest='LAX', distance=2475, flight=21, hour=19, min=2, month=1, origin='JFK', tailnum='N327AA', year=2014),\n",
       " Row(air_time=350, arr_delay=1, arr_time=1706, cancelled='0', carrier='AA', day=1, dep_delay=2, dep_time=1347, dest='LAX', distance=2475, flight=117, hour=13, min=47, month=1, origin='JFK', tailnum='N319AA', year=2014),\n",
       " Row(air_time=339, arr_delay=0, arr_time=2145, cancelled='0', carrier='AA', day=1, dep_delay=4, dep_time=1824, dest='LAX', distance=2454, flight=119, hour=18, min=24, month=1, origin='EWR', tailnum='N3DEAA', year=2014)]"
      ]
     },
     "execution_count": 58,
     "metadata": {},
     "output_type": "execute_result"
    }
   ],
   "source": [
    "sqlContext.sql(\"select * from flight where dest = 'LAX'\").take(5)"
   ]
  },
  {
   "cell_type": "code",
   "execution_count": 59,
   "metadata": {},
   "outputs": [
    {
     "data": {
      "text/plain": [
       "2750"
      ]
     },
     "execution_count": 59,
     "metadata": {},
     "output_type": "execute_result"
    }
   ],
   "source": [
    "flightsDF.where(\"origin = 'JFK' AND dest = 'MIA'\").count()"
   ]
  },
  {
   "cell_type": "code",
   "execution_count": 60,
   "metadata": {},
   "outputs": [
    {
     "data": {
      "text/plain": [
       "[Row(air_time=161, arr_delay=-17, arr_time=1828, cancelled='0', carrier='AA', day=1, dep_delay=-1, dep_time=1509, dest='MIA', distance=1089, flight=145, hour=15, min=9, month=1, origin='JFK', tailnum='N5FJAA', year=2014),\n",
       " Row(air_time=166, arr_delay=-8, arr_time=1227, cancelled='0', carrier='AA', day=1, dep_delay=7, dep_time=917, dest='MIA', distance=1089, flight=1085, hour=9, min=17, month=1, origin='JFK', tailnum='N5DWAA', year=2014)]"
      ]
     },
     "execution_count": 60,
     "metadata": {},
     "output_type": "execute_result"
    }
   ],
   "source": [
    "flightsDF.where(\"origin = 'JFK' AND dest = 'MIA'\").limit(2).collect()"
   ]
  },
  {
   "cell_type": "code",
   "execution_count": 61,
   "metadata": {},
   "outputs": [
    {
     "data": {
      "text/plain": [
       "253316"
      ]
     },
     "execution_count": 61,
     "metadata": {},
     "output_type": "execute_result"
    }
   ],
   "source": [
    "flightsDF.count()"
   ]
  },
  {
   "cell_type": "markdown",
   "metadata": {
    "collapsed": true
   },
   "source": [
    "### Count the flights that departed early and arrived late"
   ]
  },
  {
   "cell_type": "code",
   "execution_count": 62,
   "metadata": {},
   "outputs": [
    {
     "data": {
      "text/plain": [
       "30239"
      ]
     },
     "execution_count": 62,
     "metadata": {},
     "output_type": "execute_result"
    }
   ],
   "source": [
    "flightsDF.where(\"dep_delay < 0 and arr_delay > 0\").count()"
   ]
  },
  {
   "cell_type": "markdown",
   "metadata": {},
   "source": [
    "### Find the flight with the longest arrival delay"
   ]
  },
  {
   "cell_type": "code",
   "execution_count": 63,
   "metadata": {
    "collapsed": true
   },
   "outputs": [],
   "source": [
    "import pyspark.sql.functions as F"
   ]
  },
  {
   "cell_type": "code",
   "execution_count": 64,
   "metadata": {},
   "outputs": [
    {
     "data": {
      "text/plain": [
       "[Row(air_time=200, arr_delay=1494, arr_time=1008, cancelled='0', carrier='AA', day=4, dep_delay=1498, dep_time=727, dest='DFW', distance=1372, flight=1381, hour=7, min=27, month=10, origin='EWR', tailnum='N4WJAA', year=2014)]"
      ]
     },
     "execution_count": 64,
     "metadata": {},
     "output_type": "execute_result"
    }
   ],
   "source": [
    "flightsDF.sort('arr_delay', ascending=False).limit(1).collect()\n",
    "# flightsDF.agg({'arr_delay':'max'}).collect()"
   ]
  },
  {
   "cell_type": "markdown",
   "metadata": {},
   "source": [
    "### Find the top 10 destinations ordered by the number of flights"
   ]
  },
  {
   "cell_type": "code",
   "execution_count": 65,
   "metadata": {},
   "outputs": [
    {
     "name": "stdout",
     "output_type": "stream",
     "text": [
      "+----+-----------+\n",
      "|dest|count(dest)|\n",
      "+----+-----------+\n",
      "| LAX|      14434|\n",
      "| ATL|      12808|\n",
      "| SFO|      11907|\n",
      "| MCO|      11709|\n",
      "| BOS|      11609|\n",
      "| ORD|      11589|\n",
      "| MIA|       9928|\n",
      "| CLT|       9624|\n",
      "| FLL|       9471|\n",
      "| DCA|       6748|\n",
      "+----+-----------+\n",
      "\n"
     ]
    }
   ],
   "source": [
    "flightsDF.groupby(['dest']) \\\n",
    "    .agg({'dest':'count'}) \\\n",
    "    .sort('count(dest)', ascending=False) \\\n",
    "    .limit(10) \\\n",
    "    .show()"
   ]
  },
  {
   "cell_type": "markdown",
   "metadata": {},
   "source": [
    "### Find top 10 destinations with the worst avg arrival delay, ignoring flights that arrived early"
   ]
  },
  {
   "cell_type": "code",
   "execution_count": 66,
   "metadata": {},
   "outputs": [
    {
     "name": "stdout",
     "output_type": "stream",
     "text": [
      "+----+------------------+\n",
      "|dest|    avg(arr_delay)|\n",
      "+----+------------------+\n",
      "| EGE| 78.03174603174604|\n",
      "| AVP|              67.0|\n",
      "| CAK| 55.86141304347826|\n",
      "| TUL|55.122950819672134|\n",
      "| MSN| 53.32692307692308|\n",
      "| BGR| 52.28813559322034|\n",
      "| OKC|  51.3609022556391|\n",
      "| IAD|51.200559049615656|\n",
      "| JAC|51.142857142857146|\n",
      "| TVC| 49.64705882352941|\n",
      "+----+------------------+\n",
      "\n"
     ]
    }
   ],
   "source": [
    "flightsDF.filter(\"arr_delay >= 0\") \\\n",
    "    .groupby(['dest']) \\\n",
    "    .agg({'arr_delay': 'mean'}) \\\n",
    "    .sort('avg(arr_delay)', ascending=False) \\\n",
    "    .limit(10) \\\n",
    "    .show()"
   ]
  },
  {
   "cell_type": "markdown",
   "metadata": {},
   "source": [
    "### Take a sample of 1% of the flights and then calculate the average departure delay for that sample"
   ]
  },
  {
   "cell_type": "code",
   "execution_count": 67,
   "metadata": {},
   "outputs": [
    {
     "name": "stdout",
     "output_type": "stream",
     "text": [
      "+------------------+\n",
      "|    avg(dep_delay)|\n",
      "+------------------+\n",
      "|12.278466564332664|\n",
      "+------------------+\n",
      "\n"
     ]
    }
   ],
   "source": [
    "flightsDF.sample(False, 0.1, seed=42) \\\n",
    "    .agg({'dep_delay': 'mean'}) \\\n",
    "    .show()"
   ]
  },
  {
   "cell_type": "markdown",
   "metadata": {},
   "source": [
    "### For all flights from JFK during June, show the average departure delay for each destination"
   ]
  },
  {
   "cell_type": "code",
   "execution_count": 68,
   "metadata": {},
   "outputs": [
    {
     "name": "stdout",
     "output_type": "stream",
     "text": [
      "+----+-------------------+\n",
      "|dest|     avg(dep_delay)|\n",
      "+----+-------------------+\n",
      "| PSE| 17.133333333333333|\n",
      "| MSY|  10.96629213483146|\n",
      "| BUR| 16.428571428571427|\n",
      "| OAK|  22.75862068965517|\n",
      "| DCA|  5.372781065088757|\n",
      "| ORF| 10.678571428571429|\n",
      "| SAV|  4.267857142857143|\n",
      "| CMH| 11.862068965517242|\n",
      "| HNL|-1.7586206896551724|\n",
      "| SJC| 12.241379310344827|\n",
      "| CVG| 17.571428571428573|\n",
      "| BUF| 12.900826446280991|\n",
      "| AUS| 10.537931034482758|\n",
      "| SJU|  8.947368421052632|\n",
      "| LGB| 10.172413793103448|\n",
      "| SRQ| -2.533333333333333|\n",
      "| CHS|                6.4|\n",
      "| RSW| 14.913793103448276|\n",
      "| BOS| 13.006864988558352|\n",
      "| LAS|  9.663841807909604|\n",
      "+----+-------------------+\n",
      "only showing top 20 rows\n",
      "\n"
     ]
    }
   ],
   "source": [
    "flightsDF.filter(\"origin == 'JFK' and month== 6\") \\\n",
    "    .groupby(['dest']) \\\n",
    "    .agg({'dep_delay': 'avg'}) \\\n",
    "    .show()"
   ]
  },
  {
   "cell_type": "markdown",
   "metadata": {},
   "source": [
    "### For every origin/dest pair, count the number of flights"
   ]
  },
  {
   "cell_type": "code",
   "execution_count": 69,
   "metadata": {},
   "outputs": [
    {
     "name": "stdout",
     "output_type": "stream",
     "text": [
      "+------+----+-----+\n",
      "|origin|dest|count|\n",
      "+------+----+-----+\n",
      "|   EWR| STT|  174|\n",
      "|   JFK| ORD| 1265|\n",
      "|   JFK| BTV| 1004|\n",
      "|   JFK| SRQ|  370|\n",
      "|   EWR| CMH|  763|\n",
      "|   LGA| CHO|  329|\n",
      "|   JFK| JAC|    1|\n",
      "|   JFK| ORF|  282|\n",
      "|   LGA| DSM|    1|\n",
      "|   LGA| PWM|  131|\n",
      "|   JFK| MIA| 2750|\n",
      "|   EWR| TPA| 1833|\n",
      "|   EWR| DAY|  566|\n",
      "|   EWR| BWI|  185|\n",
      "|   LGA| CVG|   78|\n",
      "|   LGA| ROA|  125|\n",
      "|   LGA| ORF| 1014|\n",
      "|   EWR| SAV|  557|\n",
      "|   EWR| JAX|  998|\n",
      "|   LGA| BNA| 2600|\n",
      "+------+----+-----+\n",
      "only showing top 20 rows\n",
      "\n"
     ]
    }
   ],
   "source": [
    "flightsDF.groupby(['origin', 'dest']).count().show()"
   ]
  },
  {
   "cell_type": "code",
   "execution_count": 73,
   "metadata": {},
   "outputs": [
    {
     "name": "stdout",
     "output_type": "stream",
     "text": [
      "+-------+------------------+-----------------+------------------+---------+-------+------------------+------------------+------------------+------+------------------+------------------+------------------+------------------+------------------+------+-------+------+\n",
      "|summary|          air_time|        arr_delay|          arr_time|cancelled|carrier|               day|         dep_delay|          dep_time|  dest|          distance|            flight|              hour|               min|             month|origin|tailnum|  year|\n",
      "+-------+------------------+-----------------+------------------+---------+-------+------------------+------------------+------------------+------+------------------+------------------+------------------+------------------+------------------+------+-------+------+\n",
      "|  count|            253316|           253316|            253316|   253316| 253316|            253316|            253316|            253316|253316|            253316|            253316|            253316|            253316|            253316|253316| 253316|253316|\n",
      "|   mean|156.72282445641017| 8.14670214277819|1494.3299002036981|      0.0|   null|15.893697989862464|12.465264728639328|1338.2382794612263|  null|1099.4452738871607|1840.8199758404523|13.063434603420234|31.894819119202893| 5.638577902698605|  null|   null|2014.0|\n",
      "| stddev| 96.12977586780791|45.74945151299297| 533.8176995845558|      0.0|   null| 8.763096818854937| 41.64876323690409|488.62422659559684|  null|  752.982282057602|1559.7486576669064| 4.897890579968363| 18.13860140002296|2.8208664996538095|  null|   null|   0.0|\n",
      "|    min|                20|             -112|                 1|        0|     AA|                 1|              -112|                 1|   ABQ|                80|                 1|                 0|                 0|                 1|   EWR| D942DN|  2014|\n",
      "|    max|               706|             1494|              2400|        0|     WN|                31|              1498|              2400|   XNA|              4983|              6443|                24|                59|                10|   LGA| N9EAMQ|  2014|\n",
      "+-------+------------------+-----------------+------------------+---------+-------+------------------+------------------+------------------+------+------------------+------------------+------------------+------------------+------------------+------+-------+------+\n",
      "\n"
     ]
    }
   ],
   "source": [
    "flightsDF.describe().show()"
   ]
  },
  {
   "cell_type": "code",
   "execution_count": 50,
   "metadata": {
    "collapsed": true
   },
   "outputs": [],
   "source": [
    "sc.stop()"
   ]
  },
  {
   "cell_type": "code",
   "execution_count": null,
   "metadata": {
    "collapsed": true
   },
   "outputs": [],
   "source": []
  }
 ],
 "metadata": {
  "anaconda-cloud": {},
  "kernelspec": {
   "display_name": "Python 3",
   "language": "python",
   "name": "python3"
  },
  "language_info": {
   "codemirror_mode": {
    "name": "ipython",
    "version": 3
   },
   "file_extension": ".py",
   "mimetype": "text/x-python",
   "name": "python",
   "nbconvert_exporter": "python",
   "pygments_lexer": "ipython3",
   "version": "3.5.2"
  }
 },
 "nbformat": 4,
 "nbformat_minor": 1
}
